{
 "cells": [
  {
   "cell_type": "markdown",
   "metadata": {},
   "source": [
    "Import libraries"
   ]
  },
  {
   "cell_type": "code",
   "execution_count": 1,
   "metadata": {},
   "outputs": [],
   "source": [
    "import pandas as pd"
   ]
  },
  {
   "cell_type": "code",
   "execution_count": 2,
   "metadata": {},
   "outputs": [],
   "source": [
    "df = pd.read_csv('train.csv')"
   ]
  },
  {
   "cell_type": "code",
   "execution_count": 3,
   "metadata": {},
   "outputs": [
    {
     "data": {
      "text/html": [
       "<div>\n",
       "<style scoped>\n",
       "    .dataframe tbody tr th:only-of-type {\n",
       "        vertical-align: middle;\n",
       "    }\n",
       "\n",
       "    .dataframe tbody tr th {\n",
       "        vertical-align: top;\n",
       "    }\n",
       "\n",
       "    .dataframe thead th {\n",
       "        text-align: right;\n",
       "    }\n",
       "</style>\n",
       "<table border=\"1\" class=\"dataframe\">\n",
       "  <thead>\n",
       "    <tr style=\"text-align: right;\">\n",
       "      <th></th>\n",
       "      <th>channelGrouping</th>\n",
       "      <th>date</th>\n",
       "      <th>device</th>\n",
       "      <th>fullVisitorId</th>\n",
       "      <th>geoNetwork</th>\n",
       "      <th>sessionId</th>\n",
       "      <th>socialEngagementType</th>\n",
       "      <th>totals</th>\n",
       "      <th>trafficSource</th>\n",
       "      <th>visitId</th>\n",
       "      <th>visitNumber</th>\n",
       "      <th>visitStartTime</th>\n",
       "    </tr>\n",
       "  </thead>\n",
       "  <tbody>\n",
       "    <tr>\n",
       "      <th>0</th>\n",
       "      <td>Organic Search</td>\n",
       "      <td>20160902</td>\n",
       "      <td>{\"browser\": \"Chrome\", \"browserVersion\": \"not a...</td>\n",
       "      <td>9674781571160116268</td>\n",
       "      <td>{\"continent\": \"Asia\", \"subContinent\": \"Southea...</td>\n",
       "      <td>9674781571160116268_1472804607</td>\n",
       "      <td>Not Socially Engaged</td>\n",
       "      <td>{\"visits\": \"1\", \"hits\": \"1\", \"pageviews\": \"1\",...</td>\n",
       "      <td>{\"campaign\": \"(not set)\", \"source\": \"google\", ...</td>\n",
       "      <td>1472804607</td>\n",
       "      <td>1</td>\n",
       "      <td>1472804607</td>\n",
       "    </tr>\n",
       "    <tr>\n",
       "      <th>1</th>\n",
       "      <td>Organic Search</td>\n",
       "      <td>20160902</td>\n",
       "      <td>{\"browser\": \"Chrome\", \"browserVersion\": \"not a...</td>\n",
       "      <td>8590648239310839049</td>\n",
       "      <td>{\"continent\": \"Europe\", \"subContinent\": \"Easte...</td>\n",
       "      <td>8590648239310839049_1472835928</td>\n",
       "      <td>Not Socially Engaged</td>\n",
       "      <td>{\"visits\": \"1\", \"hits\": \"1\", \"pageviews\": \"1\",...</td>\n",
       "      <td>{\"campaign\": \"(not set)\", \"source\": \"google\", ...</td>\n",
       "      <td>1472835928</td>\n",
       "      <td>1</td>\n",
       "      <td>1472835928</td>\n",
       "    </tr>\n",
       "    <tr>\n",
       "      <th>2</th>\n",
       "      <td>Affiliates</td>\n",
       "      <td>20160902</td>\n",
       "      <td>{\"browser\": \"Chrome\", \"browserVersion\": \"not a...</td>\n",
       "      <td>9772828344252850532</td>\n",
       "      <td>{\"continent\": \"Americas\", \"subContinent\": \"Sou...</td>\n",
       "      <td>9772828344252850532_1472856802</td>\n",
       "      <td>Not Socially Engaged</td>\n",
       "      <td>{\"visits\": \"1\", \"hits\": \"1\", \"pageviews\": \"1\",...</td>\n",
       "      <td>{\"campaign\": \"Data Share Promo\", \"source\": \"Pa...</td>\n",
       "      <td>1472856802</td>\n",
       "      <td>1</td>\n",
       "      <td>1472856802</td>\n",
       "    </tr>\n",
       "    <tr>\n",
       "      <th>3</th>\n",
       "      <td>Organic Search</td>\n",
       "      <td>20160902</td>\n",
       "      <td>{\"browser\": \"Safari\", \"browserVersion\": \"not a...</td>\n",
       "      <td>1350700416054916432</td>\n",
       "      <td>{\"continent\": \"Americas\", \"subContinent\": \"Nor...</td>\n",
       "      <td>1350700416054916432_1472879649</td>\n",
       "      <td>Not Socially Engaged</td>\n",
       "      <td>{\"visits\": \"1\", \"hits\": \"1\", \"pageviews\": \"1\",...</td>\n",
       "      <td>{\"campaign\": \"(not set)\", \"source\": \"google\", ...</td>\n",
       "      <td>1472879649</td>\n",
       "      <td>2</td>\n",
       "      <td>1472879649</td>\n",
       "    </tr>\n",
       "    <tr>\n",
       "      <th>4</th>\n",
       "      <td>Organic Search</td>\n",
       "      <td>20160902</td>\n",
       "      <td>{\"browser\": \"Safari\", \"browserVersion\": \"not a...</td>\n",
       "      <td>1350700416054916432</td>\n",
       "      <td>{\"continent\": \"Americas\", \"subContinent\": \"Nor...</td>\n",
       "      <td>1350700416054916432_1472829671</td>\n",
       "      <td>Not Socially Engaged</td>\n",
       "      <td>{\"visits\": \"1\", \"hits\": \"5\", \"pageviews\": \"4\",...</td>\n",
       "      <td>{\"campaign\": \"(not set)\", \"source\": \"google\", ...</td>\n",
       "      <td>1472829671</td>\n",
       "      <td>1</td>\n",
       "      <td>1472829671</td>\n",
       "    </tr>\n",
       "  </tbody>\n",
       "</table>\n",
       "</div>"
      ],
      "text/plain": [
       "  channelGrouping      date  \\\n",
       "0  Organic Search  20160902   \n",
       "1  Organic Search  20160902   \n",
       "2      Affiliates  20160902   \n",
       "3  Organic Search  20160902   \n",
       "4  Organic Search  20160902   \n",
       "\n",
       "                                              device        fullVisitorId  \\\n",
       "0  {\"browser\": \"Chrome\", \"browserVersion\": \"not a...  9674781571160116268   \n",
       "1  {\"browser\": \"Chrome\", \"browserVersion\": \"not a...  8590648239310839049   \n",
       "2  {\"browser\": \"Chrome\", \"browserVersion\": \"not a...  9772828344252850532   \n",
       "3  {\"browser\": \"Safari\", \"browserVersion\": \"not a...  1350700416054916432   \n",
       "4  {\"browser\": \"Safari\", \"browserVersion\": \"not a...  1350700416054916432   \n",
       "\n",
       "                                          geoNetwork  \\\n",
       "0  {\"continent\": \"Asia\", \"subContinent\": \"Southea...   \n",
       "1  {\"continent\": \"Europe\", \"subContinent\": \"Easte...   \n",
       "2  {\"continent\": \"Americas\", \"subContinent\": \"Sou...   \n",
       "3  {\"continent\": \"Americas\", \"subContinent\": \"Nor...   \n",
       "4  {\"continent\": \"Americas\", \"subContinent\": \"Nor...   \n",
       "\n",
       "                        sessionId  socialEngagementType  \\\n",
       "0  9674781571160116268_1472804607  Not Socially Engaged   \n",
       "1  8590648239310839049_1472835928  Not Socially Engaged   \n",
       "2  9772828344252850532_1472856802  Not Socially Engaged   \n",
       "3  1350700416054916432_1472879649  Not Socially Engaged   \n",
       "4  1350700416054916432_1472829671  Not Socially Engaged   \n",
       "\n",
       "                                              totals  \\\n",
       "0  {\"visits\": \"1\", \"hits\": \"1\", \"pageviews\": \"1\",...   \n",
       "1  {\"visits\": \"1\", \"hits\": \"1\", \"pageviews\": \"1\",...   \n",
       "2  {\"visits\": \"1\", \"hits\": \"1\", \"pageviews\": \"1\",...   \n",
       "3  {\"visits\": \"1\", \"hits\": \"1\", \"pageviews\": \"1\",...   \n",
       "4  {\"visits\": \"1\", \"hits\": \"5\", \"pageviews\": \"4\",...   \n",
       "\n",
       "                                       trafficSource     visitId  visitNumber  \\\n",
       "0  {\"campaign\": \"(not set)\", \"source\": \"google\", ...  1472804607            1   \n",
       "1  {\"campaign\": \"(not set)\", \"source\": \"google\", ...  1472835928            1   \n",
       "2  {\"campaign\": \"Data Share Promo\", \"source\": \"Pa...  1472856802            1   \n",
       "3  {\"campaign\": \"(not set)\", \"source\": \"google\", ...  1472879649            2   \n",
       "4  {\"campaign\": \"(not set)\", \"source\": \"google\", ...  1472829671            1   \n",
       "\n",
       "   visitStartTime  \n",
       "0      1472804607  \n",
       "1      1472835928  \n",
       "2      1472856802  \n",
       "3      1472879649  \n",
       "4      1472829671  "
      ]
     },
     "execution_count": 3,
     "metadata": {},
     "output_type": "execute_result"
    }
   ],
   "source": [
    "df.head()"
   ]
  },
  {
   "cell_type": "markdown",
   "metadata": {},
   "source": [
    "Tamanho do dataset"
   ]
  },
  {
   "cell_type": "code",
   "execution_count": 4,
   "metadata": {},
   "outputs": [
    {
     "data": {
      "text/plain": [
       "(12283, 12)"
      ]
     },
     "execution_count": 4,
     "metadata": {},
     "output_type": "execute_result"
    }
   ],
   "source": [
    "df.shape"
   ]
  },
  {
   "cell_type": "markdown",
   "metadata": {},
   "source": [
    "verificao da quantidade de sessoes unicas, um usuario pode ter mais de uma visita no site "
   ]
  },
  {
   "cell_type": "code",
   "execution_count": 5,
   "metadata": {},
   "outputs": [
    {
     "data": {
      "text/plain": [
       "9996"
      ]
     },
     "execution_count": 5,
     "metadata": {},
     "output_type": "execute_result"
    }
   ],
   "source": [
    "len(df['fullVisitorId'].unique())"
   ]
  },
  {
   "cell_type": "markdown",
   "metadata": {},
   "source": [
    "Verificacao do tipo das colunas, object = string, int64 = inteiro, uint64 = inteiro sem sinal"
   ]
  },
  {
   "cell_type": "code",
   "execution_count": 6,
   "metadata": {},
   "outputs": [
    {
     "data": {
      "text/plain": [
       "channelGrouping         object\n",
       "date                     int64\n",
       "device                  object\n",
       "fullVisitorId           uint64\n",
       "geoNetwork              object\n",
       "sessionId               object\n",
       "socialEngagementType    object\n",
       "totals                  object\n",
       "trafficSource           object\n",
       "visitId                  int64\n",
       "visitNumber              int64\n",
       "visitStartTime           int64\n",
       "dtype: object"
      ]
     },
     "execution_count": 6,
     "metadata": {},
     "output_type": "execute_result"
    }
   ],
   "source": [
    "df.dtypes"
   ]
  },
  {
   "cell_type": "markdown",
   "metadata": {},
   "source": [
    "Recarregando o dataframe com conversoes das colunas date,fullvisitorId,VisitId para nao perder os zeros a esquerda"
   ]
  },
  {
   "cell_type": "code",
   "execution_count": 7,
   "metadata": {},
   "outputs": [],
   "source": [
    "df = pd.read_csv('train.csv',dtype={'date':object,'fullVisitorId':object,'VisitId':object})"
   ]
  },
  {
   "cell_type": "code",
   "execution_count": 8,
   "metadata": {},
   "outputs": [
    {
     "data": {
      "text/plain": [
       "channelGrouping         object\n",
       "date                    object\n",
       "device                  object\n",
       "fullVisitorId           object\n",
       "geoNetwork              object\n",
       "sessionId               object\n",
       "socialEngagementType    object\n",
       "totals                  object\n",
       "trafficSource           object\n",
       "visitId                  int64\n",
       "visitNumber              int64\n",
       "visitStartTime           int64\n",
       "dtype: object"
      ]
     },
     "execution_count": 8,
     "metadata": {},
     "output_type": "execute_result"
    }
   ],
   "source": [
    "df.dtypes"
   ]
  },
  {
   "cell_type": "markdown",
   "metadata": {},
   "source": [
    "Trabalhando com dicionarios = json chave valor"
   ]
  },
  {
   "cell_type": "code",
   "execution_count": 9,
   "metadata": {},
   "outputs": [
    {
     "data": {
      "text/plain": [
       "'{\"browser\": \"Chrome\", \"browserVersion\": \"not available in demo dataset\", \"browserSize\": \"not available in demo dataset\", \"operatingSystem\": \"Windows\", \"operatingSystemVersion\": \"not available in demo dataset\", \"isMobile\": false, \"mobileDeviceBranding\": \"not available in demo dataset\", \"mobileDeviceModel\": \"not available in demo dataset\", \"mobileInputSelector\": \"not available in demo dataset\", \"mobileDeviceInfo\": \"not available in demo dataset\", \"mobileDeviceMarketingName\": \"not available in demo dataset\", \"flashVersion\": \"not available in demo dataset\", \"language\": \"not available in demo dataset\", \"screenColors\": \"not available in demo dataset\", \"screenResolution\": \"not available in demo dataset\", \"deviceCategory\": \"desktop\"}'"
      ]
     },
     "execution_count": 9,
     "metadata": {},
     "output_type": "execute_result"
    }
   ],
   "source": [
    "df['device'].iloc[0]"
   ]
  },
  {
   "cell_type": "markdown",
   "metadata": {},
   "source": [
    "Verificamos a cima a quantidade de metadados nen sempre nosso algoritmo de ml vai conseguir absorver todas as informacoes, entao e nescessario, separar em colunas"
   ]
  },
  {
   "cell_type": "code",
   "execution_count": 10,
   "metadata": {},
   "outputs": [
    {
     "data": {
      "text/plain": [
       "str"
      ]
     },
     "execution_count": 10,
     "metadata": {},
     "output_type": "execute_result"
    }
   ],
   "source": [
    "type(df['device'].iloc[0])"
   ]
  },
  {
   "cell_type": "code",
   "execution_count": 11,
   "metadata": {},
   "outputs": [],
   "source": [
    "import json"
   ]
  },
  {
   "cell_type": "code",
   "execution_count": 12,
   "metadata": {},
   "outputs": [
    {
     "data": {
      "text/plain": [
       "dict"
      ]
     },
     "execution_count": 12,
     "metadata": {},
     "output_type": "execute_result"
    }
   ],
   "source": [
    "type(json.loads(df['device'].iloc[0]))"
   ]
  },
  {
   "cell_type": "code",
   "execution_count": 13,
   "metadata": {},
   "outputs": [
    {
     "data": {
      "text/plain": [
       "{'browser': 'Chrome',\n",
       " 'browserVersion': 'not available in demo dataset',\n",
       " 'browserSize': 'not available in demo dataset',\n",
       " 'operatingSystem': 'Windows',\n",
       " 'operatingSystemVersion': 'not available in demo dataset',\n",
       " 'isMobile': False,\n",
       " 'mobileDeviceBranding': 'not available in demo dataset',\n",
       " 'mobileDeviceModel': 'not available in demo dataset',\n",
       " 'mobileInputSelector': 'not available in demo dataset',\n",
       " 'mobileDeviceInfo': 'not available in demo dataset',\n",
       " 'mobileDeviceMarketingName': 'not available in demo dataset',\n",
       " 'flashVersion': 'not available in demo dataset',\n",
       " 'language': 'not available in demo dataset',\n",
       " 'screenColors': 'not available in demo dataset',\n",
       " 'screenResolution': 'not available in demo dataset',\n",
       " 'deviceCategory': 'desktop'}"
      ]
     },
     "execution_count": 13,
     "metadata": {},
     "output_type": "execute_result"
    }
   ],
   "source": [
    "json.loads(df['device'].iloc[0])"
   ]
  },
  {
   "cell_type": "code",
   "execution_count": 14,
   "metadata": {},
   "outputs": [
    {
     "data": {
      "text/html": [
       "<div>\n",
       "<style scoped>\n",
       "    .dataframe tbody tr th:only-of-type {\n",
       "        vertical-align: middle;\n",
       "    }\n",
       "\n",
       "    .dataframe tbody tr th {\n",
       "        vertical-align: top;\n",
       "    }\n",
       "\n",
       "    .dataframe thead th {\n",
       "        text-align: right;\n",
       "    }\n",
       "</style>\n",
       "<table border=\"1\" class=\"dataframe\">\n",
       "  <thead>\n",
       "    <tr style=\"text-align: right;\">\n",
       "      <th></th>\n",
       "      <th>browser</th>\n",
       "      <th>browserVersion</th>\n",
       "      <th>browserSize</th>\n",
       "      <th>operatingSystem</th>\n",
       "      <th>operatingSystemVersion</th>\n",
       "      <th>isMobile</th>\n",
       "      <th>mobileDeviceBranding</th>\n",
       "      <th>mobileDeviceModel</th>\n",
       "      <th>mobileInputSelector</th>\n",
       "      <th>mobileDeviceInfo</th>\n",
       "      <th>mobileDeviceMarketingName</th>\n",
       "      <th>flashVersion</th>\n",
       "      <th>language</th>\n",
       "      <th>screenColors</th>\n",
       "      <th>screenResolution</th>\n",
       "      <th>deviceCategory</th>\n",
       "    </tr>\n",
       "  </thead>\n",
       "  <tbody>\n",
       "    <tr>\n",
       "      <th>0</th>\n",
       "      <td>Chrome</td>\n",
       "      <td>not available in demo dataset</td>\n",
       "      <td>not available in demo dataset</td>\n",
       "      <td>Windows</td>\n",
       "      <td>not available in demo dataset</td>\n",
       "      <td>False</td>\n",
       "      <td>not available in demo dataset</td>\n",
       "      <td>not available in demo dataset</td>\n",
       "      <td>not available in demo dataset</td>\n",
       "      <td>not available in demo dataset</td>\n",
       "      <td>not available in demo dataset</td>\n",
       "      <td>not available in demo dataset</td>\n",
       "      <td>not available in demo dataset</td>\n",
       "      <td>not available in demo dataset</td>\n",
       "      <td>not available in demo dataset</td>\n",
       "      <td>desktop</td>\n",
       "    </tr>\n",
       "    <tr>\n",
       "      <th>1</th>\n",
       "      <td>Chrome</td>\n",
       "      <td>not available in demo dataset</td>\n",
       "      <td>not available in demo dataset</td>\n",
       "      <td>Macintosh</td>\n",
       "      <td>not available in demo dataset</td>\n",
       "      <td>False</td>\n",
       "      <td>not available in demo dataset</td>\n",
       "      <td>not available in demo dataset</td>\n",
       "      <td>not available in demo dataset</td>\n",
       "      <td>not available in demo dataset</td>\n",
       "      <td>not available in demo dataset</td>\n",
       "      <td>not available in demo dataset</td>\n",
       "      <td>not available in demo dataset</td>\n",
       "      <td>not available in demo dataset</td>\n",
       "      <td>not available in demo dataset</td>\n",
       "      <td>desktop</td>\n",
       "    </tr>\n",
       "    <tr>\n",
       "      <th>2</th>\n",
       "      <td>Chrome</td>\n",
       "      <td>not available in demo dataset</td>\n",
       "      <td>not available in demo dataset</td>\n",
       "      <td>Macintosh</td>\n",
       "      <td>not available in demo dataset</td>\n",
       "      <td>False</td>\n",
       "      <td>not available in demo dataset</td>\n",
       "      <td>not available in demo dataset</td>\n",
       "      <td>not available in demo dataset</td>\n",
       "      <td>not available in demo dataset</td>\n",
       "      <td>not available in demo dataset</td>\n",
       "      <td>not available in demo dataset</td>\n",
       "      <td>not available in demo dataset</td>\n",
       "      <td>not available in demo dataset</td>\n",
       "      <td>not available in demo dataset</td>\n",
       "      <td>desktop</td>\n",
       "    </tr>\n",
       "    <tr>\n",
       "      <th>3</th>\n",
       "      <td>Safari</td>\n",
       "      <td>not available in demo dataset</td>\n",
       "      <td>not available in demo dataset</td>\n",
       "      <td>iOS</td>\n",
       "      <td>not available in demo dataset</td>\n",
       "      <td>True</td>\n",
       "      <td>not available in demo dataset</td>\n",
       "      <td>not available in demo dataset</td>\n",
       "      <td>not available in demo dataset</td>\n",
       "      <td>not available in demo dataset</td>\n",
       "      <td>not available in demo dataset</td>\n",
       "      <td>not available in demo dataset</td>\n",
       "      <td>not available in demo dataset</td>\n",
       "      <td>not available in demo dataset</td>\n",
       "      <td>not available in demo dataset</td>\n",
       "      <td>mobile</td>\n",
       "    </tr>\n",
       "    <tr>\n",
       "      <th>4</th>\n",
       "      <td>Safari</td>\n",
       "      <td>not available in demo dataset</td>\n",
       "      <td>not available in demo dataset</td>\n",
       "      <td>iOS</td>\n",
       "      <td>not available in demo dataset</td>\n",
       "      <td>True</td>\n",
       "      <td>not available in demo dataset</td>\n",
       "      <td>not available in demo dataset</td>\n",
       "      <td>not available in demo dataset</td>\n",
       "      <td>not available in demo dataset</td>\n",
       "      <td>not available in demo dataset</td>\n",
       "      <td>not available in demo dataset</td>\n",
       "      <td>not available in demo dataset</td>\n",
       "      <td>not available in demo dataset</td>\n",
       "      <td>not available in demo dataset</td>\n",
       "      <td>mobile</td>\n",
       "    </tr>\n",
       "    <tr>\n",
       "      <th>...</th>\n",
       "      <td>...</td>\n",
       "      <td>...</td>\n",
       "      <td>...</td>\n",
       "      <td>...</td>\n",
       "      <td>...</td>\n",
       "      <td>...</td>\n",
       "      <td>...</td>\n",
       "      <td>...</td>\n",
       "      <td>...</td>\n",
       "      <td>...</td>\n",
       "      <td>...</td>\n",
       "      <td>...</td>\n",
       "      <td>...</td>\n",
       "      <td>...</td>\n",
       "      <td>...</td>\n",
       "      <td>...</td>\n",
       "    </tr>\n",
       "    <tr>\n",
       "      <th>12278</th>\n",
       "      <td>Chrome</td>\n",
       "      <td>not available in demo dataset</td>\n",
       "      <td>not available in demo dataset</td>\n",
       "      <td>Windows</td>\n",
       "      <td>not available in demo dataset</td>\n",
       "      <td>False</td>\n",
       "      <td>not available in demo dataset</td>\n",
       "      <td>not available in demo dataset</td>\n",
       "      <td>not available in demo dataset</td>\n",
       "      <td>not available in demo dataset</td>\n",
       "      <td>not available in demo dataset</td>\n",
       "      <td>not available in demo dataset</td>\n",
       "      <td>not available in demo dataset</td>\n",
       "      <td>not available in demo dataset</td>\n",
       "      <td>not available in demo dataset</td>\n",
       "      <td>desktop</td>\n",
       "    </tr>\n",
       "    <tr>\n",
       "      <th>12279</th>\n",
       "      <td>Chrome</td>\n",
       "      <td>not available in demo dataset</td>\n",
       "      <td>not available in demo dataset</td>\n",
       "      <td>Android</td>\n",
       "      <td>not available in demo dataset</td>\n",
       "      <td>True</td>\n",
       "      <td>not available in demo dataset</td>\n",
       "      <td>not available in demo dataset</td>\n",
       "      <td>not available in demo dataset</td>\n",
       "      <td>not available in demo dataset</td>\n",
       "      <td>not available in demo dataset</td>\n",
       "      <td>not available in demo dataset</td>\n",
       "      <td>not available in demo dataset</td>\n",
       "      <td>not available in demo dataset</td>\n",
       "      <td>not available in demo dataset</td>\n",
       "      <td>mobile</td>\n",
       "    </tr>\n",
       "    <tr>\n",
       "      <th>12280</th>\n",
       "      <td>Chrome</td>\n",
       "      <td>not available in demo dataset</td>\n",
       "      <td>not available in demo dataset</td>\n",
       "      <td>Linux</td>\n",
       "      <td>not available in demo dataset</td>\n",
       "      <td>False</td>\n",
       "      <td>not available in demo dataset</td>\n",
       "      <td>not available in demo dataset</td>\n",
       "      <td>not available in demo dataset</td>\n",
       "      <td>not available in demo dataset</td>\n",
       "      <td>not available in demo dataset</td>\n",
       "      <td>not available in demo dataset</td>\n",
       "      <td>not available in demo dataset</td>\n",
       "      <td>not available in demo dataset</td>\n",
       "      <td>not available in demo dataset</td>\n",
       "      <td>desktop</td>\n",
       "    </tr>\n",
       "    <tr>\n",
       "      <th>12281</th>\n",
       "      <td>Chrome</td>\n",
       "      <td>not available in demo dataset</td>\n",
       "      <td>not available in demo dataset</td>\n",
       "      <td>Android</td>\n",
       "      <td>not available in demo dataset</td>\n",
       "      <td>True</td>\n",
       "      <td>not available in demo dataset</td>\n",
       "      <td>not available in demo dataset</td>\n",
       "      <td>not available in demo dataset</td>\n",
       "      <td>not available in demo dataset</td>\n",
       "      <td>not available in demo dataset</td>\n",
       "      <td>not available in demo dataset</td>\n",
       "      <td>not available in demo dataset</td>\n",
       "      <td>not available in demo dataset</td>\n",
       "      <td>not available in demo dataset</td>\n",
       "      <td>mobile</td>\n",
       "    </tr>\n",
       "    <tr>\n",
       "      <th>12282</th>\n",
       "      <td>Android Webview</td>\n",
       "      <td>not available in demo dataset</td>\n",
       "      <td>not available in demo dataset</td>\n",
       "      <td>Android</td>\n",
       "      <td>not available in demo dataset</td>\n",
       "      <td>True</td>\n",
       "      <td>not available in demo dataset</td>\n",
       "      <td>not available in demo dataset</td>\n",
       "      <td>not available in demo dataset</td>\n",
       "      <td>not available in demo dataset</td>\n",
       "      <td>not available in demo dataset</td>\n",
       "      <td>not available in demo dataset</td>\n",
       "      <td>not available in demo dataset</td>\n",
       "      <td>not available in demo dataset</td>\n",
       "      <td>not available in demo dataset</td>\n",
       "      <td>tablet</td>\n",
       "    </tr>\n",
       "  </tbody>\n",
       "</table>\n",
       "<p>12283 rows × 16 columns</p>\n",
       "</div>"
      ],
      "text/plain": [
       "               browser                 browserVersion  \\\n",
       "0               Chrome  not available in demo dataset   \n",
       "1               Chrome  not available in demo dataset   \n",
       "2               Chrome  not available in demo dataset   \n",
       "3               Safari  not available in demo dataset   \n",
       "4               Safari  not available in demo dataset   \n",
       "...                ...                            ...   \n",
       "12278           Chrome  not available in demo dataset   \n",
       "12279           Chrome  not available in demo dataset   \n",
       "12280           Chrome  not available in demo dataset   \n",
       "12281           Chrome  not available in demo dataset   \n",
       "12282  Android Webview  not available in demo dataset   \n",
       "\n",
       "                         browserSize operatingSystem  \\\n",
       "0      not available in demo dataset         Windows   \n",
       "1      not available in demo dataset       Macintosh   \n",
       "2      not available in demo dataset       Macintosh   \n",
       "3      not available in demo dataset             iOS   \n",
       "4      not available in demo dataset             iOS   \n",
       "...                              ...             ...   \n",
       "12278  not available in demo dataset         Windows   \n",
       "12279  not available in demo dataset         Android   \n",
       "12280  not available in demo dataset           Linux   \n",
       "12281  not available in demo dataset         Android   \n",
       "12282  not available in demo dataset         Android   \n",
       "\n",
       "              operatingSystemVersion  isMobile           mobileDeviceBranding  \\\n",
       "0      not available in demo dataset     False  not available in demo dataset   \n",
       "1      not available in demo dataset     False  not available in demo dataset   \n",
       "2      not available in demo dataset     False  not available in demo dataset   \n",
       "3      not available in demo dataset      True  not available in demo dataset   \n",
       "4      not available in demo dataset      True  not available in demo dataset   \n",
       "...                              ...       ...                            ...   \n",
       "12278  not available in demo dataset     False  not available in demo dataset   \n",
       "12279  not available in demo dataset      True  not available in demo dataset   \n",
       "12280  not available in demo dataset     False  not available in demo dataset   \n",
       "12281  not available in demo dataset      True  not available in demo dataset   \n",
       "12282  not available in demo dataset      True  not available in demo dataset   \n",
       "\n",
       "                   mobileDeviceModel            mobileInputSelector  \\\n",
       "0      not available in demo dataset  not available in demo dataset   \n",
       "1      not available in demo dataset  not available in demo dataset   \n",
       "2      not available in demo dataset  not available in demo dataset   \n",
       "3      not available in demo dataset  not available in demo dataset   \n",
       "4      not available in demo dataset  not available in demo dataset   \n",
       "...                              ...                            ...   \n",
       "12278  not available in demo dataset  not available in demo dataset   \n",
       "12279  not available in demo dataset  not available in demo dataset   \n",
       "12280  not available in demo dataset  not available in demo dataset   \n",
       "12281  not available in demo dataset  not available in demo dataset   \n",
       "12282  not available in demo dataset  not available in demo dataset   \n",
       "\n",
       "                    mobileDeviceInfo      mobileDeviceMarketingName  \\\n",
       "0      not available in demo dataset  not available in demo dataset   \n",
       "1      not available in demo dataset  not available in demo dataset   \n",
       "2      not available in demo dataset  not available in demo dataset   \n",
       "3      not available in demo dataset  not available in demo dataset   \n",
       "4      not available in demo dataset  not available in demo dataset   \n",
       "...                              ...                            ...   \n",
       "12278  not available in demo dataset  not available in demo dataset   \n",
       "12279  not available in demo dataset  not available in demo dataset   \n",
       "12280  not available in demo dataset  not available in demo dataset   \n",
       "12281  not available in demo dataset  not available in demo dataset   \n",
       "12282  not available in demo dataset  not available in demo dataset   \n",
       "\n",
       "                        flashVersion                       language  \\\n",
       "0      not available in demo dataset  not available in demo dataset   \n",
       "1      not available in demo dataset  not available in demo dataset   \n",
       "2      not available in demo dataset  not available in demo dataset   \n",
       "3      not available in demo dataset  not available in demo dataset   \n",
       "4      not available in demo dataset  not available in demo dataset   \n",
       "...                              ...                            ...   \n",
       "12278  not available in demo dataset  not available in demo dataset   \n",
       "12279  not available in demo dataset  not available in demo dataset   \n",
       "12280  not available in demo dataset  not available in demo dataset   \n",
       "12281  not available in demo dataset  not available in demo dataset   \n",
       "12282  not available in demo dataset  not available in demo dataset   \n",
       "\n",
       "                        screenColors               screenResolution  \\\n",
       "0      not available in demo dataset  not available in demo dataset   \n",
       "1      not available in demo dataset  not available in demo dataset   \n",
       "2      not available in demo dataset  not available in demo dataset   \n",
       "3      not available in demo dataset  not available in demo dataset   \n",
       "4      not available in demo dataset  not available in demo dataset   \n",
       "...                              ...                            ...   \n",
       "12278  not available in demo dataset  not available in demo dataset   \n",
       "12279  not available in demo dataset  not available in demo dataset   \n",
       "12280  not available in demo dataset  not available in demo dataset   \n",
       "12281  not available in demo dataset  not available in demo dataset   \n",
       "12282  not available in demo dataset  not available in demo dataset   \n",
       "\n",
       "      deviceCategory  \n",
       "0            desktop  \n",
       "1            desktop  \n",
       "2            desktop  \n",
       "3             mobile  \n",
       "4             mobile  \n",
       "...              ...  \n",
       "12278        desktop  \n",
       "12279         mobile  \n",
       "12280        desktop  \n",
       "12281         mobile  \n",
       "12282         tablet  \n",
       "\n",
       "[12283 rows x 16 columns]"
      ]
     },
     "execution_count": 14,
     "metadata": {},
     "output_type": "execute_result"
    }
   ],
   "source": [
    "pd.DataFrame([json.loads(linha) for linha in df.device])"
   ]
  },
  {
   "cell_type": "code",
   "execution_count": 15,
   "metadata": {},
   "outputs": [],
   "source": [
    "dicionarios = ['device','geoNetwork','trafficSource','totals']"
   ]
  },
  {
   "cell_type": "code",
   "execution_count": 16,
   "metadata": {},
   "outputs": [],
   "source": [
    "for coluna in dicionarios:\n",
    "    df = df.join(pd.DataFrame([json.loads(linha) for linha in df[coluna]]))"
   ]
  },
  {
   "cell_type": "code",
   "execution_count": 17,
   "metadata": {},
   "outputs": [
    {
     "data": {
      "text/html": [
       "<div>\n",
       "<style scoped>\n",
       "    .dataframe tbody tr th:only-of-type {\n",
       "        vertical-align: middle;\n",
       "    }\n",
       "\n",
       "    .dataframe tbody tr th {\n",
       "        vertical-align: top;\n",
       "    }\n",
       "\n",
       "    .dataframe thead th {\n",
       "        text-align: right;\n",
       "    }\n",
       "</style>\n",
       "<table border=\"1\" class=\"dataframe\">\n",
       "  <thead>\n",
       "    <tr style=\"text-align: right;\">\n",
       "      <th></th>\n",
       "      <th>channelGrouping</th>\n",
       "      <th>date</th>\n",
       "      <th>device</th>\n",
       "      <th>fullVisitorId</th>\n",
       "      <th>geoNetwork</th>\n",
       "      <th>sessionId</th>\n",
       "      <th>socialEngagementType</th>\n",
       "      <th>totals</th>\n",
       "      <th>trafficSource</th>\n",
       "      <th>visitId</th>\n",
       "      <th>...</th>\n",
       "      <th>isTrueDirect</th>\n",
       "      <th>referralPath</th>\n",
       "      <th>adContent</th>\n",
       "      <th>campaignCode</th>\n",
       "      <th>visits</th>\n",
       "      <th>hits</th>\n",
       "      <th>pageviews</th>\n",
       "      <th>bounces</th>\n",
       "      <th>newVisits</th>\n",
       "      <th>transactionRevenue</th>\n",
       "    </tr>\n",
       "  </thead>\n",
       "  <tbody>\n",
       "    <tr>\n",
       "      <th>0</th>\n",
       "      <td>Organic Search</td>\n",
       "      <td>20160902</td>\n",
       "      <td>{\"browser\": \"Chrome\", \"browserVersion\": \"not a...</td>\n",
       "      <td>9674781571160116268</td>\n",
       "      <td>{\"continent\": \"Asia\", \"subContinent\": \"Southea...</td>\n",
       "      <td>9674781571160116268_1472804607</td>\n",
       "      <td>Not Socially Engaged</td>\n",
       "      <td>{\"visits\": \"1\", \"hits\": \"1\", \"pageviews\": \"1\",...</td>\n",
       "      <td>{\"campaign\": \"(not set)\", \"source\": \"google\", ...</td>\n",
       "      <td>1472804607</td>\n",
       "      <td>...</td>\n",
       "      <td>NaN</td>\n",
       "      <td>NaN</td>\n",
       "      <td>NaN</td>\n",
       "      <td>NaN</td>\n",
       "      <td>1</td>\n",
       "      <td>1</td>\n",
       "      <td>1</td>\n",
       "      <td>1</td>\n",
       "      <td>1</td>\n",
       "      <td>NaN</td>\n",
       "    </tr>\n",
       "    <tr>\n",
       "      <th>1</th>\n",
       "      <td>Organic Search</td>\n",
       "      <td>20160902</td>\n",
       "      <td>{\"browser\": \"Chrome\", \"browserVersion\": \"not a...</td>\n",
       "      <td>8590648239310839049</td>\n",
       "      <td>{\"continent\": \"Europe\", \"subContinent\": \"Easte...</td>\n",
       "      <td>8590648239310839049_1472835928</td>\n",
       "      <td>Not Socially Engaged</td>\n",
       "      <td>{\"visits\": \"1\", \"hits\": \"1\", \"pageviews\": \"1\",...</td>\n",
       "      <td>{\"campaign\": \"(not set)\", \"source\": \"google\", ...</td>\n",
       "      <td>1472835928</td>\n",
       "      <td>...</td>\n",
       "      <td>NaN</td>\n",
       "      <td>NaN</td>\n",
       "      <td>NaN</td>\n",
       "      <td>NaN</td>\n",
       "      <td>1</td>\n",
       "      <td>1</td>\n",
       "      <td>1</td>\n",
       "      <td>1</td>\n",
       "      <td>1</td>\n",
       "      <td>NaN</td>\n",
       "    </tr>\n",
       "    <tr>\n",
       "      <th>2</th>\n",
       "      <td>Affiliates</td>\n",
       "      <td>20160902</td>\n",
       "      <td>{\"browser\": \"Chrome\", \"browserVersion\": \"not a...</td>\n",
       "      <td>9772828344252850532</td>\n",
       "      <td>{\"continent\": \"Americas\", \"subContinent\": \"Sou...</td>\n",
       "      <td>9772828344252850532_1472856802</td>\n",
       "      <td>Not Socially Engaged</td>\n",
       "      <td>{\"visits\": \"1\", \"hits\": \"1\", \"pageviews\": \"1\",...</td>\n",
       "      <td>{\"campaign\": \"Data Share Promo\", \"source\": \"Pa...</td>\n",
       "      <td>1472856802</td>\n",
       "      <td>...</td>\n",
       "      <td>NaN</td>\n",
       "      <td>NaN</td>\n",
       "      <td>NaN</td>\n",
       "      <td>NaN</td>\n",
       "      <td>1</td>\n",
       "      <td>1</td>\n",
       "      <td>1</td>\n",
       "      <td>1</td>\n",
       "      <td>1</td>\n",
       "      <td>NaN</td>\n",
       "    </tr>\n",
       "    <tr>\n",
       "      <th>3</th>\n",
       "      <td>Organic Search</td>\n",
       "      <td>20160902</td>\n",
       "      <td>{\"browser\": \"Safari\", \"browserVersion\": \"not a...</td>\n",
       "      <td>1350700416054916432</td>\n",
       "      <td>{\"continent\": \"Americas\", \"subContinent\": \"Nor...</td>\n",
       "      <td>1350700416054916432_1472879649</td>\n",
       "      <td>Not Socially Engaged</td>\n",
       "      <td>{\"visits\": \"1\", \"hits\": \"1\", \"pageviews\": \"1\",...</td>\n",
       "      <td>{\"campaign\": \"(not set)\", \"source\": \"google\", ...</td>\n",
       "      <td>1472879649</td>\n",
       "      <td>...</td>\n",
       "      <td>True</td>\n",
       "      <td>NaN</td>\n",
       "      <td>NaN</td>\n",
       "      <td>NaN</td>\n",
       "      <td>1</td>\n",
       "      <td>1</td>\n",
       "      <td>1</td>\n",
       "      <td>1</td>\n",
       "      <td>NaN</td>\n",
       "      <td>NaN</td>\n",
       "    </tr>\n",
       "    <tr>\n",
       "      <th>4</th>\n",
       "      <td>Organic Search</td>\n",
       "      <td>20160902</td>\n",
       "      <td>{\"browser\": \"Safari\", \"browserVersion\": \"not a...</td>\n",
       "      <td>1350700416054916432</td>\n",
       "      <td>{\"continent\": \"Americas\", \"subContinent\": \"Nor...</td>\n",
       "      <td>1350700416054916432_1472829671</td>\n",
       "      <td>Not Socially Engaged</td>\n",
       "      <td>{\"visits\": \"1\", \"hits\": \"5\", \"pageviews\": \"4\",...</td>\n",
       "      <td>{\"campaign\": \"(not set)\", \"source\": \"google\", ...</td>\n",
       "      <td>1472829671</td>\n",
       "      <td>...</td>\n",
       "      <td>NaN</td>\n",
       "      <td>NaN</td>\n",
       "      <td>NaN</td>\n",
       "      <td>NaN</td>\n",
       "      <td>1</td>\n",
       "      <td>5</td>\n",
       "      <td>4</td>\n",
       "      <td>NaN</td>\n",
       "      <td>1</td>\n",
       "      <td>NaN</td>\n",
       "    </tr>\n",
       "  </tbody>\n",
       "</table>\n",
       "<p>5 rows × 54 columns</p>\n",
       "</div>"
      ],
      "text/plain": [
       "  channelGrouping      date  \\\n",
       "0  Organic Search  20160902   \n",
       "1  Organic Search  20160902   \n",
       "2      Affiliates  20160902   \n",
       "3  Organic Search  20160902   \n",
       "4  Organic Search  20160902   \n",
       "\n",
       "                                              device        fullVisitorId  \\\n",
       "0  {\"browser\": \"Chrome\", \"browserVersion\": \"not a...  9674781571160116268   \n",
       "1  {\"browser\": \"Chrome\", \"browserVersion\": \"not a...  8590648239310839049   \n",
       "2  {\"browser\": \"Chrome\", \"browserVersion\": \"not a...  9772828344252850532   \n",
       "3  {\"browser\": \"Safari\", \"browserVersion\": \"not a...  1350700416054916432   \n",
       "4  {\"browser\": \"Safari\", \"browserVersion\": \"not a...  1350700416054916432   \n",
       "\n",
       "                                          geoNetwork  \\\n",
       "0  {\"continent\": \"Asia\", \"subContinent\": \"Southea...   \n",
       "1  {\"continent\": \"Europe\", \"subContinent\": \"Easte...   \n",
       "2  {\"continent\": \"Americas\", \"subContinent\": \"Sou...   \n",
       "3  {\"continent\": \"Americas\", \"subContinent\": \"Nor...   \n",
       "4  {\"continent\": \"Americas\", \"subContinent\": \"Nor...   \n",
       "\n",
       "                        sessionId  socialEngagementType  \\\n",
       "0  9674781571160116268_1472804607  Not Socially Engaged   \n",
       "1  8590648239310839049_1472835928  Not Socially Engaged   \n",
       "2  9772828344252850532_1472856802  Not Socially Engaged   \n",
       "3  1350700416054916432_1472879649  Not Socially Engaged   \n",
       "4  1350700416054916432_1472829671  Not Socially Engaged   \n",
       "\n",
       "                                              totals  \\\n",
       "0  {\"visits\": \"1\", \"hits\": \"1\", \"pageviews\": \"1\",...   \n",
       "1  {\"visits\": \"1\", \"hits\": \"1\", \"pageviews\": \"1\",...   \n",
       "2  {\"visits\": \"1\", \"hits\": \"1\", \"pageviews\": \"1\",...   \n",
       "3  {\"visits\": \"1\", \"hits\": \"1\", \"pageviews\": \"1\",...   \n",
       "4  {\"visits\": \"1\", \"hits\": \"5\", \"pageviews\": \"4\",...   \n",
       "\n",
       "                                       trafficSource     visitId  ...  \\\n",
       "0  {\"campaign\": \"(not set)\", \"source\": \"google\", ...  1472804607  ...   \n",
       "1  {\"campaign\": \"(not set)\", \"source\": \"google\", ...  1472835928  ...   \n",
       "2  {\"campaign\": \"Data Share Promo\", \"source\": \"Pa...  1472856802  ...   \n",
       "3  {\"campaign\": \"(not set)\", \"source\": \"google\", ...  1472879649  ...   \n",
       "4  {\"campaign\": \"(not set)\", \"source\": \"google\", ...  1472829671  ...   \n",
       "\n",
       "   isTrueDirect  referralPath adContent campaignCode visits hits pageviews  \\\n",
       "0           NaN           NaN       NaN          NaN      1    1         1   \n",
       "1           NaN           NaN       NaN          NaN      1    1         1   \n",
       "2           NaN           NaN       NaN          NaN      1    1         1   \n",
       "3          True           NaN       NaN          NaN      1    1         1   \n",
       "4           NaN           NaN       NaN          NaN      1    5         4   \n",
       "\n",
       "   bounces newVisits transactionRevenue  \n",
       "0        1         1                NaN  \n",
       "1        1         1                NaN  \n",
       "2        1         1                NaN  \n",
       "3        1       NaN                NaN  \n",
       "4      NaN         1                NaN  \n",
       "\n",
       "[5 rows x 54 columns]"
      ]
     },
     "execution_count": 17,
     "metadata": {},
     "output_type": "execute_result"
    }
   ],
   "source": [
    "df.head()"
   ]
  },
  {
   "cell_type": "code",
   "execution_count": 18,
   "metadata": {},
   "outputs": [
    {
     "data": {
      "text/plain": [
       "(12283, 54)"
      ]
     },
     "execution_count": 18,
     "metadata": {},
     "output_type": "execute_result"
    }
   ],
   "source": [
    "df.shape"
   ]
  },
  {
   "cell_type": "markdown",
   "metadata": {},
   "source": [
    "Depois de tirar as informacoes agora podemos excluir as colunas "
   ]
  },
  {
   "cell_type": "code",
   "execution_count": 21,
   "metadata": {},
   "outputs": [],
   "source": [
    "df.drop(dicionarios, axis=1, inplace=True)"
   ]
  },
  {
   "cell_type": "code",
   "execution_count": 22,
   "metadata": {},
   "outputs": [
    {
     "data": {
      "text/html": [
       "<div>\n",
       "<style scoped>\n",
       "    .dataframe tbody tr th:only-of-type {\n",
       "        vertical-align: middle;\n",
       "    }\n",
       "\n",
       "    .dataframe tbody tr th {\n",
       "        vertical-align: top;\n",
       "    }\n",
       "\n",
       "    .dataframe thead th {\n",
       "        text-align: right;\n",
       "    }\n",
       "</style>\n",
       "<table border=\"1\" class=\"dataframe\">\n",
       "  <thead>\n",
       "    <tr style=\"text-align: right;\">\n",
       "      <th></th>\n",
       "      <th>channelGrouping</th>\n",
       "      <th>date</th>\n",
       "      <th>fullVisitorId</th>\n",
       "      <th>sessionId</th>\n",
       "      <th>socialEngagementType</th>\n",
       "      <th>visitId</th>\n",
       "      <th>visitNumber</th>\n",
       "      <th>visitStartTime</th>\n",
       "      <th>browser</th>\n",
       "      <th>browserVersion</th>\n",
       "      <th>...</th>\n",
       "      <th>isTrueDirect</th>\n",
       "      <th>referralPath</th>\n",
       "      <th>adContent</th>\n",
       "      <th>campaignCode</th>\n",
       "      <th>visits</th>\n",
       "      <th>hits</th>\n",
       "      <th>pageviews</th>\n",
       "      <th>bounces</th>\n",
       "      <th>newVisits</th>\n",
       "      <th>transactionRevenue</th>\n",
       "    </tr>\n",
       "  </thead>\n",
       "  <tbody>\n",
       "    <tr>\n",
       "      <th>0</th>\n",
       "      <td>Organic Search</td>\n",
       "      <td>20160902</td>\n",
       "      <td>9674781571160116268</td>\n",
       "      <td>9674781571160116268_1472804607</td>\n",
       "      <td>Not Socially Engaged</td>\n",
       "      <td>1472804607</td>\n",
       "      <td>1</td>\n",
       "      <td>1472804607</td>\n",
       "      <td>Chrome</td>\n",
       "      <td>not available in demo dataset</td>\n",
       "      <td>...</td>\n",
       "      <td>NaN</td>\n",
       "      <td>NaN</td>\n",
       "      <td>NaN</td>\n",
       "      <td>NaN</td>\n",
       "      <td>1</td>\n",
       "      <td>1</td>\n",
       "      <td>1</td>\n",
       "      <td>1</td>\n",
       "      <td>1</td>\n",
       "      <td>NaN</td>\n",
       "    </tr>\n",
       "    <tr>\n",
       "      <th>1</th>\n",
       "      <td>Organic Search</td>\n",
       "      <td>20160902</td>\n",
       "      <td>8590648239310839049</td>\n",
       "      <td>8590648239310839049_1472835928</td>\n",
       "      <td>Not Socially Engaged</td>\n",
       "      <td>1472835928</td>\n",
       "      <td>1</td>\n",
       "      <td>1472835928</td>\n",
       "      <td>Chrome</td>\n",
       "      <td>not available in demo dataset</td>\n",
       "      <td>...</td>\n",
       "      <td>NaN</td>\n",
       "      <td>NaN</td>\n",
       "      <td>NaN</td>\n",
       "      <td>NaN</td>\n",
       "      <td>1</td>\n",
       "      <td>1</td>\n",
       "      <td>1</td>\n",
       "      <td>1</td>\n",
       "      <td>1</td>\n",
       "      <td>NaN</td>\n",
       "    </tr>\n",
       "    <tr>\n",
       "      <th>2</th>\n",
       "      <td>Affiliates</td>\n",
       "      <td>20160902</td>\n",
       "      <td>9772828344252850532</td>\n",
       "      <td>9772828344252850532_1472856802</td>\n",
       "      <td>Not Socially Engaged</td>\n",
       "      <td>1472856802</td>\n",
       "      <td>1</td>\n",
       "      <td>1472856802</td>\n",
       "      <td>Chrome</td>\n",
       "      <td>not available in demo dataset</td>\n",
       "      <td>...</td>\n",
       "      <td>NaN</td>\n",
       "      <td>NaN</td>\n",
       "      <td>NaN</td>\n",
       "      <td>NaN</td>\n",
       "      <td>1</td>\n",
       "      <td>1</td>\n",
       "      <td>1</td>\n",
       "      <td>1</td>\n",
       "      <td>1</td>\n",
       "      <td>NaN</td>\n",
       "    </tr>\n",
       "    <tr>\n",
       "      <th>3</th>\n",
       "      <td>Organic Search</td>\n",
       "      <td>20160902</td>\n",
       "      <td>1350700416054916432</td>\n",
       "      <td>1350700416054916432_1472879649</td>\n",
       "      <td>Not Socially Engaged</td>\n",
       "      <td>1472879649</td>\n",
       "      <td>2</td>\n",
       "      <td>1472879649</td>\n",
       "      <td>Safari</td>\n",
       "      <td>not available in demo dataset</td>\n",
       "      <td>...</td>\n",
       "      <td>True</td>\n",
       "      <td>NaN</td>\n",
       "      <td>NaN</td>\n",
       "      <td>NaN</td>\n",
       "      <td>1</td>\n",
       "      <td>1</td>\n",
       "      <td>1</td>\n",
       "      <td>1</td>\n",
       "      <td>NaN</td>\n",
       "      <td>NaN</td>\n",
       "    </tr>\n",
       "    <tr>\n",
       "      <th>4</th>\n",
       "      <td>Organic Search</td>\n",
       "      <td>20160902</td>\n",
       "      <td>1350700416054916432</td>\n",
       "      <td>1350700416054916432_1472829671</td>\n",
       "      <td>Not Socially Engaged</td>\n",
       "      <td>1472829671</td>\n",
       "      <td>1</td>\n",
       "      <td>1472829671</td>\n",
       "      <td>Safari</td>\n",
       "      <td>not available in demo dataset</td>\n",
       "      <td>...</td>\n",
       "      <td>NaN</td>\n",
       "      <td>NaN</td>\n",
       "      <td>NaN</td>\n",
       "      <td>NaN</td>\n",
       "      <td>1</td>\n",
       "      <td>5</td>\n",
       "      <td>4</td>\n",
       "      <td>NaN</td>\n",
       "      <td>1</td>\n",
       "      <td>NaN</td>\n",
       "    </tr>\n",
       "  </tbody>\n",
       "</table>\n",
       "<p>5 rows × 50 columns</p>\n",
       "</div>"
      ],
      "text/plain": [
       "  channelGrouping      date        fullVisitorId  \\\n",
       "0  Organic Search  20160902  9674781571160116268   \n",
       "1  Organic Search  20160902  8590648239310839049   \n",
       "2      Affiliates  20160902  9772828344252850532   \n",
       "3  Organic Search  20160902  1350700416054916432   \n",
       "4  Organic Search  20160902  1350700416054916432   \n",
       "\n",
       "                        sessionId  socialEngagementType     visitId  \\\n",
       "0  9674781571160116268_1472804607  Not Socially Engaged  1472804607   \n",
       "1  8590648239310839049_1472835928  Not Socially Engaged  1472835928   \n",
       "2  9772828344252850532_1472856802  Not Socially Engaged  1472856802   \n",
       "3  1350700416054916432_1472879649  Not Socially Engaged  1472879649   \n",
       "4  1350700416054916432_1472829671  Not Socially Engaged  1472829671   \n",
       "\n",
       "   visitNumber  visitStartTime browser                 browserVersion  ...  \\\n",
       "0            1      1472804607  Chrome  not available in demo dataset  ...   \n",
       "1            1      1472835928  Chrome  not available in demo dataset  ...   \n",
       "2            1      1472856802  Chrome  not available in demo dataset  ...   \n",
       "3            2      1472879649  Safari  not available in demo dataset  ...   \n",
       "4            1      1472829671  Safari  not available in demo dataset  ...   \n",
       "\n",
       "  isTrueDirect referralPath adContent  campaignCode visits hits pageviews  \\\n",
       "0          NaN          NaN       NaN           NaN      1    1         1   \n",
       "1          NaN          NaN       NaN           NaN      1    1         1   \n",
       "2          NaN          NaN       NaN           NaN      1    1         1   \n",
       "3         True          NaN       NaN           NaN      1    1         1   \n",
       "4          NaN          NaN       NaN           NaN      1    5         4   \n",
       "\n",
       "  bounces newVisits transactionRevenue  \n",
       "0       1         1                NaN  \n",
       "1       1         1                NaN  \n",
       "2       1         1                NaN  \n",
       "3       1       NaN                NaN  \n",
       "4     NaN         1                NaN  \n",
       "\n",
       "[5 rows x 50 columns]"
      ]
     },
     "execution_count": 22,
     "metadata": {},
     "output_type": "execute_result"
    }
   ],
   "source": [
    "df.head()"
   ]
  },
  {
   "cell_type": "markdown",
   "metadata": {},
   "source": [
    "Limpando a base de dados"
   ]
  },
  {
   "cell_type": "code",
   "execution_count": 23,
   "metadata": {},
   "outputs": [
    {
     "data": {
      "text/plain": [
       "Index(['channelGrouping', 'date', 'fullVisitorId', 'sessionId',\n",
       "       'socialEngagementType', 'visitId', 'visitNumber', 'visitStartTime',\n",
       "       'browser', 'browserVersion', 'browserSize', 'operatingSystem',\n",
       "       'operatingSystemVersion', 'isMobile', 'mobileDeviceBranding',\n",
       "       'mobileDeviceModel', 'mobileInputSelector', 'mobileDeviceInfo',\n",
       "       'mobileDeviceMarketingName', 'flashVersion', 'language', 'screenColors',\n",
       "       'screenResolution', 'deviceCategory', 'continent', 'subContinent',\n",
       "       'country', 'region', 'metro', 'city', 'cityId', 'networkDomain',\n",
       "       'latitude', 'longitude', 'networkLocation', 'campaign', 'source',\n",
       "       'medium', 'keyword', 'adwordsClickInfo', 'isTrueDirect', 'referralPath',\n",
       "       'adContent', 'campaignCode', 'visits', 'hits', 'pageviews', 'bounces',\n",
       "       'newVisits', 'transactionRevenue'],\n",
       "      dtype='object')"
      ]
     },
     "execution_count": 23,
     "metadata": {},
     "output_type": "execute_result"
    }
   ],
   "source": [
    "df.columns"
   ]
  },
  {
   "cell_type": "code",
   "execution_count": 24,
   "metadata": {},
   "outputs": [
    {
     "data": {
      "text/plain": [
       "8"
      ]
     },
     "execution_count": 24,
     "metadata": {},
     "output_type": "execute_result"
    }
   ],
   "source": [
    "len(df['channelGrouping'].unique())"
   ]
  },
  {
   "cell_type": "code",
   "execution_count": 29,
   "metadata": {},
   "outputs": [],
   "source": [
    "df.drop('adwordsClickInfo', axis=1, inplace=True)"
   ]
  },
  {
   "cell_type": "code",
   "execution_count": 30,
   "metadata": {},
   "outputs": [
    {
     "name": "stdout",
     "output_type": "stream",
     "text": [
      "channelGrouping:8\n",
      "date:366\n",
      "fullVisitorId:9997\n",
      "sessionId:12276\n",
      "socialEngagementType:1\n",
      "visitId:12272\n",
      "visitNumber:50\n",
      "visitStartTime:12279\n",
      "browser:22\n",
      "browserVersion:1\n",
      "browserSize:1\n",
      "operatingSystem:12\n",
      "operatingSystemVersion:1\n",
      "isMobile:2\n",
      "mobileDeviceBranding:1\n",
      "mobileDeviceModel:1\n",
      "mobileInputSelector:1\n",
      "mobileDeviceInfo:1\n",
      "mobileDeviceMarketingName:1\n",
      "flashVersion:1\n",
      "language:1\n",
      "screenColors:1\n",
      "screenResolution:1\n",
      "deviceCategory:3\n",
      "continent:6\n",
      "subContinent:22\n",
      "country:145\n",
      "region:212\n",
      "metro:53\n",
      "city:296\n",
      "cityId:1\n",
      "networkDomain:1747\n",
      "latitude:1\n",
      "longitude:1\n",
      "networkLocation:1\n",
      "campaign:7\n",
      "source:76\n",
      "medium:7\n",
      "keyword:129\n",
      "isTrueDirect:2\n",
      "referralPath:198\n",
      "adContent:16\n",
      "campaignCode:2\n",
      "visits:1\n",
      "hits:96\n",
      "pageviews:75\n",
      "bounces:2\n",
      "newVisits:2\n",
      "transactionRevenue:147\n"
     ]
    }
   ],
   "source": [
    "for coluna in df.columns:\n",
    "    print(coluna+ ':' + str(len(df[coluna].unique())))"
   ]
  },
  {
   "cell_type": "markdown",
   "metadata": {},
   "source": [
    "Avaliando a quantida de valores unicos para cada coluna, um coluna que tem um valor unico para todas as linhas nao traz nada de imortante para o nosso modelo"
   ]
  },
  {
   "cell_type": "code",
   "execution_count": 31,
   "metadata": {},
   "outputs": [],
   "source": [
    "coluna_na = []"
   ]
  },
  {
   "cell_type": "code",
   "execution_count": 32,
   "metadata": {},
   "outputs": [
    {
     "name": "stdout",
     "output_type": "stream",
     "text": [
      "channelGrouping:8\n",
      "date:366\n",
      "fullVisitorId:9997\n",
      "sessionId:12276\n",
      "socialEngagementType:1\n",
      "visitId:12272\n",
      "visitNumber:50\n",
      "visitStartTime:12279\n",
      "browser:22\n",
      "browserVersion:1\n",
      "browserSize:1\n",
      "operatingSystem:12\n",
      "operatingSystemVersion:1\n",
      "isMobile:2\n",
      "mobileDeviceBranding:1\n",
      "mobileDeviceModel:1\n",
      "mobileInputSelector:1\n",
      "mobileDeviceInfo:1\n",
      "mobileDeviceMarketingName:1\n",
      "flashVersion:1\n",
      "language:1\n",
      "screenColors:1\n",
      "screenResolution:1\n",
      "deviceCategory:3\n",
      "continent:6\n",
      "subContinent:22\n",
      "country:145\n",
      "region:212\n",
      "metro:53\n",
      "city:296\n",
      "cityId:1\n",
      "networkDomain:1747\n",
      "latitude:1\n",
      "longitude:1\n",
      "networkLocation:1\n",
      "campaign:7\n",
      "source:76\n",
      "medium:7\n",
      "keyword:129\n",
      "isTrueDirect:2\n",
      "referralPath:198\n",
      "adContent:16\n",
      "campaignCode:2\n",
      "visits:1\n",
      "hits:96\n",
      "pageviews:75\n",
      "bounces:2\n",
      "newVisits:2\n",
      "transactionRevenue:147\n"
     ]
    }
   ],
   "source": [
    "for coluna in df.columns:\n",
    "    print(coluna+ ':' + str(len(df[coluna].unique())))\n",
    "    if len(df[coluna].unique()) ==1:\n",
    "        coluna_na.append(coluna)"
   ]
  },
  {
   "cell_type": "code",
   "execution_count": 34,
   "metadata": {},
   "outputs": [
    {
     "data": {
      "text/plain": [
       "18"
      ]
     },
     "execution_count": 34,
     "metadata": {},
     "output_type": "execute_result"
    }
   ],
   "source": [
    "len(coluna_na)"
   ]
  },
  {
   "cell_type": "code",
   "execution_count": 35,
   "metadata": {},
   "outputs": [],
   "source": [
    "df.drop(coluna_na, axis=1, inplace=True)"
   ]
  },
  {
   "cell_type": "code",
   "execution_count": 36,
   "metadata": {},
   "outputs": [
    {
     "data": {
      "text/html": [
       "<div>\n",
       "<style scoped>\n",
       "    .dataframe tbody tr th:only-of-type {\n",
       "        vertical-align: middle;\n",
       "    }\n",
       "\n",
       "    .dataframe tbody tr th {\n",
       "        vertical-align: top;\n",
       "    }\n",
       "\n",
       "    .dataframe thead th {\n",
       "        text-align: right;\n",
       "    }\n",
       "</style>\n",
       "<table border=\"1\" class=\"dataframe\">\n",
       "  <thead>\n",
       "    <tr style=\"text-align: right;\">\n",
       "      <th></th>\n",
       "      <th>channelGrouping</th>\n",
       "      <th>date</th>\n",
       "      <th>fullVisitorId</th>\n",
       "      <th>sessionId</th>\n",
       "      <th>visitId</th>\n",
       "      <th>visitNumber</th>\n",
       "      <th>visitStartTime</th>\n",
       "      <th>browser</th>\n",
       "      <th>operatingSystem</th>\n",
       "      <th>isMobile</th>\n",
       "      <th>...</th>\n",
       "      <th>keyword</th>\n",
       "      <th>isTrueDirect</th>\n",
       "      <th>referralPath</th>\n",
       "      <th>adContent</th>\n",
       "      <th>campaignCode</th>\n",
       "      <th>hits</th>\n",
       "      <th>pageviews</th>\n",
       "      <th>bounces</th>\n",
       "      <th>newVisits</th>\n",
       "      <th>transactionRevenue</th>\n",
       "    </tr>\n",
       "  </thead>\n",
       "  <tbody>\n",
       "    <tr>\n",
       "      <th>0</th>\n",
       "      <td>Organic Search</td>\n",
       "      <td>20160902</td>\n",
       "      <td>9674781571160116268</td>\n",
       "      <td>9674781571160116268_1472804607</td>\n",
       "      <td>1472804607</td>\n",
       "      <td>1</td>\n",
       "      <td>1472804607</td>\n",
       "      <td>Chrome</td>\n",
       "      <td>Windows</td>\n",
       "      <td>False</td>\n",
       "      <td>...</td>\n",
       "      <td>(not provided)</td>\n",
       "      <td>NaN</td>\n",
       "      <td>NaN</td>\n",
       "      <td>NaN</td>\n",
       "      <td>NaN</td>\n",
       "      <td>1</td>\n",
       "      <td>1</td>\n",
       "      <td>1</td>\n",
       "      <td>1</td>\n",
       "      <td>NaN</td>\n",
       "    </tr>\n",
       "    <tr>\n",
       "      <th>1</th>\n",
       "      <td>Organic Search</td>\n",
       "      <td>20160902</td>\n",
       "      <td>8590648239310839049</td>\n",
       "      <td>8590648239310839049_1472835928</td>\n",
       "      <td>1472835928</td>\n",
       "      <td>1</td>\n",
       "      <td>1472835928</td>\n",
       "      <td>Chrome</td>\n",
       "      <td>Macintosh</td>\n",
       "      <td>False</td>\n",
       "      <td>...</td>\n",
       "      <td>(not provided)</td>\n",
       "      <td>NaN</td>\n",
       "      <td>NaN</td>\n",
       "      <td>NaN</td>\n",
       "      <td>NaN</td>\n",
       "      <td>1</td>\n",
       "      <td>1</td>\n",
       "      <td>1</td>\n",
       "      <td>1</td>\n",
       "      <td>NaN</td>\n",
       "    </tr>\n",
       "    <tr>\n",
       "      <th>2</th>\n",
       "      <td>Affiliates</td>\n",
       "      <td>20160902</td>\n",
       "      <td>9772828344252850532</td>\n",
       "      <td>9772828344252850532_1472856802</td>\n",
       "      <td>1472856802</td>\n",
       "      <td>1</td>\n",
       "      <td>1472856802</td>\n",
       "      <td>Chrome</td>\n",
       "      <td>Macintosh</td>\n",
       "      <td>False</td>\n",
       "      <td>...</td>\n",
       "      <td>NaN</td>\n",
       "      <td>NaN</td>\n",
       "      <td>NaN</td>\n",
       "      <td>NaN</td>\n",
       "      <td>NaN</td>\n",
       "      <td>1</td>\n",
       "      <td>1</td>\n",
       "      <td>1</td>\n",
       "      <td>1</td>\n",
       "      <td>NaN</td>\n",
       "    </tr>\n",
       "    <tr>\n",
       "      <th>3</th>\n",
       "      <td>Organic Search</td>\n",
       "      <td>20160902</td>\n",
       "      <td>1350700416054916432</td>\n",
       "      <td>1350700416054916432_1472879649</td>\n",
       "      <td>1472879649</td>\n",
       "      <td>2</td>\n",
       "      <td>1472879649</td>\n",
       "      <td>Safari</td>\n",
       "      <td>iOS</td>\n",
       "      <td>True</td>\n",
       "      <td>...</td>\n",
       "      <td>(not provided)</td>\n",
       "      <td>True</td>\n",
       "      <td>NaN</td>\n",
       "      <td>NaN</td>\n",
       "      <td>NaN</td>\n",
       "      <td>1</td>\n",
       "      <td>1</td>\n",
       "      <td>1</td>\n",
       "      <td>NaN</td>\n",
       "      <td>NaN</td>\n",
       "    </tr>\n",
       "    <tr>\n",
       "      <th>4</th>\n",
       "      <td>Organic Search</td>\n",
       "      <td>20160902</td>\n",
       "      <td>1350700416054916432</td>\n",
       "      <td>1350700416054916432_1472829671</td>\n",
       "      <td>1472829671</td>\n",
       "      <td>1</td>\n",
       "      <td>1472829671</td>\n",
       "      <td>Safari</td>\n",
       "      <td>iOS</td>\n",
       "      <td>True</td>\n",
       "      <td>...</td>\n",
       "      <td>(not provided)</td>\n",
       "      <td>NaN</td>\n",
       "      <td>NaN</td>\n",
       "      <td>NaN</td>\n",
       "      <td>NaN</td>\n",
       "      <td>5</td>\n",
       "      <td>4</td>\n",
       "      <td>NaN</td>\n",
       "      <td>1</td>\n",
       "      <td>NaN</td>\n",
       "    </tr>\n",
       "  </tbody>\n",
       "</table>\n",
       "<p>5 rows × 31 columns</p>\n",
       "</div>"
      ],
      "text/plain": [
       "  channelGrouping      date        fullVisitorId  \\\n",
       "0  Organic Search  20160902  9674781571160116268   \n",
       "1  Organic Search  20160902  8590648239310839049   \n",
       "2      Affiliates  20160902  9772828344252850532   \n",
       "3  Organic Search  20160902  1350700416054916432   \n",
       "4  Organic Search  20160902  1350700416054916432   \n",
       "\n",
       "                        sessionId     visitId  visitNumber  visitStartTime  \\\n",
       "0  9674781571160116268_1472804607  1472804607            1      1472804607   \n",
       "1  8590648239310839049_1472835928  1472835928            1      1472835928   \n",
       "2  9772828344252850532_1472856802  1472856802            1      1472856802   \n",
       "3  1350700416054916432_1472879649  1472879649            2      1472879649   \n",
       "4  1350700416054916432_1472829671  1472829671            1      1472829671   \n",
       "\n",
       "  browser operatingSystem  isMobile  ...         keyword isTrueDirect  \\\n",
       "0  Chrome         Windows     False  ...  (not provided)          NaN   \n",
       "1  Chrome       Macintosh     False  ...  (not provided)          NaN   \n",
       "2  Chrome       Macintosh     False  ...             NaN          NaN   \n",
       "3  Safari             iOS      True  ...  (not provided)         True   \n",
       "4  Safari             iOS      True  ...  (not provided)          NaN   \n",
       "\n",
       "  referralPath adContent campaignCode hits pageviews bounces newVisits  \\\n",
       "0          NaN       NaN          NaN    1         1       1         1   \n",
       "1          NaN       NaN          NaN    1         1       1         1   \n",
       "2          NaN       NaN          NaN    1         1       1         1   \n",
       "3          NaN       NaN          NaN    1         1       1       NaN   \n",
       "4          NaN       NaN          NaN    5         4     NaN         1   \n",
       "\n",
       "  transactionRevenue  \n",
       "0                NaN  \n",
       "1                NaN  \n",
       "2                NaN  \n",
       "3                NaN  \n",
       "4                NaN  \n",
       "\n",
       "[5 rows x 31 columns]"
      ]
     },
     "execution_count": 36,
     "metadata": {},
     "output_type": "execute_result"
    }
   ],
   "source": [
    "df.head()"
   ]
  },
  {
   "cell_type": "markdown",
   "metadata": {},
   "source": [
    "Usando feature engineering, escolhendo variaveis quantitativas para entender melhor o usuario.\n",
    "\n",
    "1 - newVisits -> volume de primeira visitas\n",
    "\n",
    "2 - pageviews -> quantos paginas foi visualizadas\n",
    "\n",
    "3 - bounces -> rejeicao, visita que gerou apenas um request para o servidor\n",
    "\n",
    "4 - hits -> volume de interacao que o google recebeu do site "
   ]
  },
  {
   "cell_type": "code",
   "execution_count": 37,
   "metadata": {},
   "outputs": [
    {
     "data": {
      "text/plain": [
       "channelGrouping       object\n",
       "date                  object\n",
       "fullVisitorId         object\n",
       "sessionId             object\n",
       "visitId                int64\n",
       "visitNumber            int64\n",
       "visitStartTime         int64\n",
       "browser               object\n",
       "operatingSystem       object\n",
       "isMobile                bool\n",
       "deviceCategory        object\n",
       "continent             object\n",
       "subContinent          object\n",
       "country               object\n",
       "region                object\n",
       "metro                 object\n",
       "city                  object\n",
       "networkDomain         object\n",
       "campaign              object\n",
       "source                object\n",
       "medium                object\n",
       "keyword               object\n",
       "isTrueDirect          object\n",
       "referralPath          object\n",
       "adContent             object\n",
       "campaignCode          object\n",
       "hits                  object\n",
       "pageviews             object\n",
       "bounces               object\n",
       "newVisits             object\n",
       "transactionRevenue    object\n",
       "dtype: object"
      ]
     },
     "execution_count": 37,
     "metadata": {},
     "output_type": "execute_result"
    }
   ],
   "source": [
    "df.dtypes"
   ]
  },
  {
   "cell_type": "markdown",
   "metadata": {},
   "source": [
    "As variaveis quantitativas precisam ser numeros, as variaveis quantitativas que escolhemos sao do tipo objeto logo precisamos transformar"
   ]
  },
  {
   "cell_type": "code",
   "execution_count": 40,
   "metadata": {},
   "outputs": [],
   "source": [
    "quant = ['newVisits','pageviews','bounces','hits','transactionRevenue']"
   ]
  },
  {
   "cell_type": "code",
   "execution_count": 41,
   "metadata": {},
   "outputs": [],
   "source": [
    "for coluna in quant:\n",
    "    df[coluna] = pd.to_numeric(df[coluna])"
   ]
  },
  {
   "cell_type": "code",
   "execution_count": 42,
   "metadata": {},
   "outputs": [
    {
     "data": {
      "text/html": [
       "<div>\n",
       "<style scoped>\n",
       "    .dataframe tbody tr th:only-of-type {\n",
       "        vertical-align: middle;\n",
       "    }\n",
       "\n",
       "    .dataframe tbody tr th {\n",
       "        vertical-align: top;\n",
       "    }\n",
       "\n",
       "    .dataframe thead th {\n",
       "        text-align: right;\n",
       "    }\n",
       "</style>\n",
       "<table border=\"1\" class=\"dataframe\">\n",
       "  <thead>\n",
       "    <tr style=\"text-align: right;\">\n",
       "      <th></th>\n",
       "      <th>channelGrouping</th>\n",
       "      <th>date</th>\n",
       "      <th>fullVisitorId</th>\n",
       "      <th>sessionId</th>\n",
       "      <th>visitId</th>\n",
       "      <th>visitNumber</th>\n",
       "      <th>visitStartTime</th>\n",
       "      <th>browser</th>\n",
       "      <th>operatingSystem</th>\n",
       "      <th>isMobile</th>\n",
       "      <th>...</th>\n",
       "      <th>keyword</th>\n",
       "      <th>isTrueDirect</th>\n",
       "      <th>referralPath</th>\n",
       "      <th>adContent</th>\n",
       "      <th>campaignCode</th>\n",
       "      <th>hits</th>\n",
       "      <th>pageviews</th>\n",
       "      <th>bounces</th>\n",
       "      <th>newVisits</th>\n",
       "      <th>transactionRevenue</th>\n",
       "    </tr>\n",
       "  </thead>\n",
       "  <tbody>\n",
       "    <tr>\n",
       "      <th>0</th>\n",
       "      <td>Organic Search</td>\n",
       "      <td>20160902</td>\n",
       "      <td>9674781571160116268</td>\n",
       "      <td>9674781571160116268_1472804607</td>\n",
       "      <td>1472804607</td>\n",
       "      <td>1</td>\n",
       "      <td>1472804607</td>\n",
       "      <td>Chrome</td>\n",
       "      <td>Windows</td>\n",
       "      <td>False</td>\n",
       "      <td>...</td>\n",
       "      <td>(not provided)</td>\n",
       "      <td>NaN</td>\n",
       "      <td>NaN</td>\n",
       "      <td>NaN</td>\n",
       "      <td>NaN</td>\n",
       "      <td>1</td>\n",
       "      <td>1</td>\n",
       "      <td>1.0</td>\n",
       "      <td>1.0</td>\n",
       "      <td>NaN</td>\n",
       "    </tr>\n",
       "    <tr>\n",
       "      <th>1</th>\n",
       "      <td>Organic Search</td>\n",
       "      <td>20160902</td>\n",
       "      <td>8590648239310839049</td>\n",
       "      <td>8590648239310839049_1472835928</td>\n",
       "      <td>1472835928</td>\n",
       "      <td>1</td>\n",
       "      <td>1472835928</td>\n",
       "      <td>Chrome</td>\n",
       "      <td>Macintosh</td>\n",
       "      <td>False</td>\n",
       "      <td>...</td>\n",
       "      <td>(not provided)</td>\n",
       "      <td>NaN</td>\n",
       "      <td>NaN</td>\n",
       "      <td>NaN</td>\n",
       "      <td>NaN</td>\n",
       "      <td>1</td>\n",
       "      <td>1</td>\n",
       "      <td>1.0</td>\n",
       "      <td>1.0</td>\n",
       "      <td>NaN</td>\n",
       "    </tr>\n",
       "    <tr>\n",
       "      <th>2</th>\n",
       "      <td>Affiliates</td>\n",
       "      <td>20160902</td>\n",
       "      <td>9772828344252850532</td>\n",
       "      <td>9772828344252850532_1472856802</td>\n",
       "      <td>1472856802</td>\n",
       "      <td>1</td>\n",
       "      <td>1472856802</td>\n",
       "      <td>Chrome</td>\n",
       "      <td>Macintosh</td>\n",
       "      <td>False</td>\n",
       "      <td>...</td>\n",
       "      <td>NaN</td>\n",
       "      <td>NaN</td>\n",
       "      <td>NaN</td>\n",
       "      <td>NaN</td>\n",
       "      <td>NaN</td>\n",
       "      <td>1</td>\n",
       "      <td>1</td>\n",
       "      <td>1.0</td>\n",
       "      <td>1.0</td>\n",
       "      <td>NaN</td>\n",
       "    </tr>\n",
       "    <tr>\n",
       "      <th>3</th>\n",
       "      <td>Organic Search</td>\n",
       "      <td>20160902</td>\n",
       "      <td>1350700416054916432</td>\n",
       "      <td>1350700416054916432_1472879649</td>\n",
       "      <td>1472879649</td>\n",
       "      <td>2</td>\n",
       "      <td>1472879649</td>\n",
       "      <td>Safari</td>\n",
       "      <td>iOS</td>\n",
       "      <td>True</td>\n",
       "      <td>...</td>\n",
       "      <td>(not provided)</td>\n",
       "      <td>True</td>\n",
       "      <td>NaN</td>\n",
       "      <td>NaN</td>\n",
       "      <td>NaN</td>\n",
       "      <td>1</td>\n",
       "      <td>1</td>\n",
       "      <td>1.0</td>\n",
       "      <td>NaN</td>\n",
       "      <td>NaN</td>\n",
       "    </tr>\n",
       "    <tr>\n",
       "      <th>4</th>\n",
       "      <td>Organic Search</td>\n",
       "      <td>20160902</td>\n",
       "      <td>1350700416054916432</td>\n",
       "      <td>1350700416054916432_1472829671</td>\n",
       "      <td>1472829671</td>\n",
       "      <td>1</td>\n",
       "      <td>1472829671</td>\n",
       "      <td>Safari</td>\n",
       "      <td>iOS</td>\n",
       "      <td>True</td>\n",
       "      <td>...</td>\n",
       "      <td>(not provided)</td>\n",
       "      <td>NaN</td>\n",
       "      <td>NaN</td>\n",
       "      <td>NaN</td>\n",
       "      <td>NaN</td>\n",
       "      <td>5</td>\n",
       "      <td>4</td>\n",
       "      <td>NaN</td>\n",
       "      <td>1.0</td>\n",
       "      <td>NaN</td>\n",
       "    </tr>\n",
       "  </tbody>\n",
       "</table>\n",
       "<p>5 rows × 31 columns</p>\n",
       "</div>"
      ],
      "text/plain": [
       "  channelGrouping      date        fullVisitorId  \\\n",
       "0  Organic Search  20160902  9674781571160116268   \n",
       "1  Organic Search  20160902  8590648239310839049   \n",
       "2      Affiliates  20160902  9772828344252850532   \n",
       "3  Organic Search  20160902  1350700416054916432   \n",
       "4  Organic Search  20160902  1350700416054916432   \n",
       "\n",
       "                        sessionId     visitId  visitNumber  visitStartTime  \\\n",
       "0  9674781571160116268_1472804607  1472804607            1      1472804607   \n",
       "1  8590648239310839049_1472835928  1472835928            1      1472835928   \n",
       "2  9772828344252850532_1472856802  1472856802            1      1472856802   \n",
       "3  1350700416054916432_1472879649  1472879649            2      1472879649   \n",
       "4  1350700416054916432_1472829671  1472829671            1      1472829671   \n",
       "\n",
       "  browser operatingSystem  isMobile  ...         keyword isTrueDirect  \\\n",
       "0  Chrome         Windows     False  ...  (not provided)          NaN   \n",
       "1  Chrome       Macintosh     False  ...  (not provided)          NaN   \n",
       "2  Chrome       Macintosh     False  ...             NaN          NaN   \n",
       "3  Safari             iOS      True  ...  (not provided)         True   \n",
       "4  Safari             iOS      True  ...  (not provided)          NaN   \n",
       "\n",
       "  referralPath adContent campaignCode hits pageviews bounces newVisits  \\\n",
       "0          NaN       NaN          NaN    1         1     1.0       1.0   \n",
       "1          NaN       NaN          NaN    1         1     1.0       1.0   \n",
       "2          NaN       NaN          NaN    1         1     1.0       1.0   \n",
       "3          NaN       NaN          NaN    1         1     1.0       NaN   \n",
       "4          NaN       NaN          NaN    5         4     NaN       1.0   \n",
       "\n",
       "  transactionRevenue  \n",
       "0                NaN  \n",
       "1                NaN  \n",
       "2                NaN  \n",
       "3                NaN  \n",
       "4                NaN  \n",
       "\n",
       "[5 rows x 31 columns]"
      ]
     },
     "execution_count": 42,
     "metadata": {},
     "output_type": "execute_result"
    }
   ],
   "source": [
    "df.head()"
   ]
  },
  {
   "cell_type": "markdown",
   "metadata": {},
   "source": [
    "Tratando a variavel resposta, ela traz muitos valores vazios\n"
   ]
  },
  {
   "cell_type": "code",
   "execution_count": 43,
   "metadata": {},
   "outputs": [
    {
     "data": {
      "text/plain": [
       "0       NaN\n",
       "1       NaN\n",
       "2       NaN\n",
       "3       NaN\n",
       "4       NaN\n",
       "         ..\n",
       "12278   NaN\n",
       "12279   NaN\n",
       "12280   NaN\n",
       "12281   NaN\n",
       "12282   NaN\n",
       "Name: transactionRevenue, Length: 12283, dtype: float64"
      ]
     },
     "execution_count": 43,
     "metadata": {},
     "output_type": "execute_result"
    }
   ],
   "source": [
    "df['transactionRevenue']"
   ]
  },
  {
   "cell_type": "markdown",
   "metadata": {},
   "source": [
    "O que significa esse valor ser Nan pode ter vários motivos, mas neste caso ele não está preenchido porque o usuário não comprou nada no site."
   ]
  },
  {
   "cell_type": "code",
   "execution_count": 44,
   "metadata": {},
   "outputs": [
    {
     "data": {
      "text/plain": [
       "transactionRevenue\n",
       "13590000.0     3\n",
       "19190000.0     3\n",
       "33590000.0     3\n",
       "31490000.0     2\n",
       "69990000.0     2\n",
       "              ..\n",
       "22490000.0     1\n",
       "74850000.0     1\n",
       "32490000.0     1\n",
       "239880000.0    1\n",
       "25240000.0     1\n",
       "Name: count, Length: 146, dtype: int64"
      ]
     },
     "execution_count": 44,
     "metadata": {},
     "output_type": "execute_result"
    }
   ],
   "source": [
    "df['transactionRevenue'].value_counts()"
   ]
  },
  {
   "cell_type": "code",
   "execution_count": 46,
   "metadata": {},
   "outputs": [
    {
     "data": {
      "text/plain": [
       "transactionRevenue\n",
       "True     12119\n",
       "False      164\n",
       "Name: count, dtype: int64"
      ]
     },
     "execution_count": 46,
     "metadata": {},
     "output_type": "execute_result"
    }
   ],
   "source": [
    "df['transactionRevenue'].isna().value_counts()"
   ]
  },
  {
   "cell_type": "code",
   "execution_count": 48,
   "metadata": {},
   "outputs": [
    {
     "data": {
      "text/plain": [
       "12119"
      ]
     },
     "execution_count": 48,
     "metadata": {},
     "output_type": "execute_result"
    }
   ],
   "source": [
    "df['transactionRevenue'].isna().sum()"
   ]
  },
  {
   "cell_type": "code",
   "execution_count": 49,
   "metadata": {},
   "outputs": [
    {
     "data": {
      "text/plain": [
       "12283"
      ]
     },
     "execution_count": 49,
     "metadata": {},
     "output_type": "execute_result"
    }
   ],
   "source": [
    "len(df['transactionRevenue'])"
   ]
  },
  {
   "cell_type": "markdown",
   "metadata": {},
   "source": [
    "Acima podemos ver que o data frame tem um tamanho de 12283 sendo que 12119 são valores NaN, afinal o que deve fazer com esses valores faltantes? Neste caso é interessante preencher com zeros a caso que você deve preencher com média, mediana, moda.\n"
   ]
  },
  {
   "cell_type": "code",
   "execution_count": 51,
   "metadata": {},
   "outputs": [],
   "source": [
    "df.transactionRevenue.fillna(0, inplace = True)"
   ]
  },
  {
   "cell_type": "code",
   "execution_count": 54,
   "metadata": {},
   "outputs": [
    {
     "name": "stdout",
     "output_type": "stream",
     "text": [
      "O valor de zeros: 0\n"
     ]
    }
   ],
   "source": [
    "print('O valor de zeros: ' + str(df['transactionRevenue'].isna().sum()))\n"
   ]
  },
  {
   "cell_type": "markdown",
   "metadata": {},
   "source": [
    "Os valores em TrasactionRevenue ou seja o valor que a pessoa gastou no site está em uma formação errada, o valor esta sendo multiplicado por 10^6 ou seja 1000000 então temos que dividir o valor por um milhão."
   ]
  },
  {
   "cell_type": "code",
   "execution_count": 55,
   "metadata": {},
   "outputs": [],
   "source": [
    "df.transactionRevenue = df.transactionRevenue / 1000000"
   ]
  },
  {
   "cell_type": "code",
   "execution_count": 56,
   "metadata": {},
   "outputs": [
    {
     "data": {
      "text/plain": [
       "transactionRevenue\n",
       "0.00     12119\n",
       "13.59        3\n",
       "33.59        3\n",
       "19.19        3\n",
       "27.19        2\n",
       "         ...  \n",
       "24.73        1\n",
       "6.99         1\n",
       "14.48        1\n",
       "95.18        1\n",
       "25.24        1\n",
       "Name: count, Length: 147, dtype: int64"
      ]
     },
     "execution_count": 56,
     "metadata": {},
     "output_type": "execute_result"
    }
   ],
   "source": [
    "df.transactionRevenue.value_counts()"
   ]
  },
  {
   "cell_type": "markdown",
   "metadata": {},
   "source": [
    "Criando variaveis"
   ]
  },
  {
   "cell_type": "code",
   "execution_count": 57,
   "metadata": {},
   "outputs": [
    {
     "data": {
      "text/plain": [
       "9997"
      ]
     },
     "execution_count": 57,
     "metadata": {},
     "output_type": "execute_result"
    }
   ],
   "source": [
    "len(set(df['fullVisitorId']))"
   ]
  },
  {
   "cell_type": "code",
   "execution_count": 61,
   "metadata": {},
   "outputs": [
    {
     "data": {
      "text/plain": [
       "9997"
      ]
     },
     "execution_count": 61,
     "metadata": {},
     "output_type": "execute_result"
    }
   ],
   "source": [
    "df['fullVisitorId'].nunique()"
   ]
  },
  {
   "cell_type": "code",
   "execution_count": 64,
   "metadata": {},
   "outputs": [],
   "source": [
    "df_quant = df.groupby('fullVisitorId', as_index = False)[quant].sum()"
   ]
  },
  {
   "cell_type": "code",
   "execution_count": 65,
   "metadata": {},
   "outputs": [
    {
     "data": {
      "text/html": [
       "<div>\n",
       "<style scoped>\n",
       "    .dataframe tbody tr th:only-of-type {\n",
       "        vertical-align: middle;\n",
       "    }\n",
       "\n",
       "    .dataframe tbody tr th {\n",
       "        vertical-align: top;\n",
       "    }\n",
       "\n",
       "    .dataframe thead th {\n",
       "        text-align: right;\n",
       "    }\n",
       "</style>\n",
       "<table border=\"1\" class=\"dataframe\">\n",
       "  <thead>\n",
       "    <tr style=\"text-align: right;\">\n",
       "      <th></th>\n",
       "      <th>fullVisitorId</th>\n",
       "      <th>newVisits</th>\n",
       "      <th>pageviews</th>\n",
       "      <th>bounces</th>\n",
       "      <th>hits</th>\n",
       "      <th>transactionRevenue</th>\n",
       "    </tr>\n",
       "  </thead>\n",
       "  <tbody>\n",
       "    <tr>\n",
       "      <th>0</th>\n",
       "      <td>0002365800130207040</td>\n",
       "      <td>1.0</td>\n",
       "      <td>1</td>\n",
       "      <td>1.0</td>\n",
       "      <td>1</td>\n",
       "      <td>0.0</td>\n",
       "    </tr>\n",
       "    <tr>\n",
       "      <th>1</th>\n",
       "      <td>0010286039787739137</td>\n",
       "      <td>1.0</td>\n",
       "      <td>3</td>\n",
       "      <td>0.0</td>\n",
       "      <td>4</td>\n",
       "      <td>0.0</td>\n",
       "    </tr>\n",
       "    <tr>\n",
       "      <th>2</th>\n",
       "      <td>0011056874471185769</td>\n",
       "      <td>1.0</td>\n",
       "      <td>2</td>\n",
       "      <td>0.0</td>\n",
       "      <td>2</td>\n",
       "      <td>0.0</td>\n",
       "    </tr>\n",
       "    <tr>\n",
       "      <th>3</th>\n",
       "      <td>0014443856125569702</td>\n",
       "      <td>1.0</td>\n",
       "      <td>1</td>\n",
       "      <td>1.0</td>\n",
       "      <td>1</td>\n",
       "      <td>0.0</td>\n",
       "    </tr>\n",
       "    <tr>\n",
       "      <th>4</th>\n",
       "      <td>0017260116665815114</td>\n",
       "      <td>0.0</td>\n",
       "      <td>2</td>\n",
       "      <td>0.0</td>\n",
       "      <td>2</td>\n",
       "      <td>0.0</td>\n",
       "    </tr>\n",
       "  </tbody>\n",
       "</table>\n",
       "</div>"
      ],
      "text/plain": [
       "         fullVisitorId  newVisits  pageviews  bounces  hits  \\\n",
       "0  0002365800130207040        1.0          1      1.0     1   \n",
       "1  0010286039787739137        1.0          3      0.0     4   \n",
       "2  0011056874471185769        1.0          2      0.0     2   \n",
       "3  0014443856125569702        1.0          1      1.0     1   \n",
       "4  0017260116665815114        0.0          2      0.0     2   \n",
       "\n",
       "   transactionRevenue  \n",
       "0                 0.0  \n",
       "1                 0.0  \n",
       "2                 0.0  \n",
       "3                 0.0  \n",
       "4                 0.0  "
      ]
     },
     "execution_count": 65,
     "metadata": {},
     "output_type": "execute_result"
    }
   ],
   "source": [
    "df_quant.head()"
   ]
  },
  {
   "cell_type": "code",
   "execution_count": 66,
   "metadata": {},
   "outputs": [
    {
     "data": {
      "text/plain": [
       "(9997, 6)"
      ]
     },
     "execution_count": 66,
     "metadata": {},
     "output_type": "execute_result"
    }
   ],
   "source": [
    "df_quant.shape"
   ]
  },
  {
   "cell_type": "markdown",
   "metadata": {},
   "source": [
    "Treinando o modelo"
   ]
  },
  {
   "cell_type": "code",
   "execution_count": null,
   "metadata": {},
   "outputs": [],
   "source": []
  }
 ],
 "metadata": {
  "kernelspec": {
   "display_name": "base",
   "language": "python",
   "name": "python3"
  },
  "language_info": {
   "codemirror_mode": {
    "name": "ipython",
    "version": 3
   },
   "file_extension": ".py",
   "mimetype": "text/x-python",
   "name": "python",
   "nbconvert_exporter": "python",
   "pygments_lexer": "ipython3",
   "version": "3.11.5"
  }
 },
 "nbformat": 4,
 "nbformat_minor": 2
}
